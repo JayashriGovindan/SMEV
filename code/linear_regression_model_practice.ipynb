{
 "cells": [
  {
   "cell_type": "markdown",
   "id": "0cc3bf45-4caf-4f8b-b2e4-369212ec7e62",
   "metadata": {},
   "source": [
    "### Linear Regression Model"
   ]
  },
  {
   "cell_type": "code",
   "execution_count": 40,
   "id": "4fb72d00-36be-4a2c-a435-abfe4e8baed8",
   "metadata": {},
   "outputs": [],
   "source": [
    "#Import Libraries \n",
    "library(dplyr)\n",
    "library(ggplot2)"
   ]
  },
  {
   "cell_type": "markdown",
   "id": "f2c50e51-4ffc-46c5-aad0-dd7d73e03ced",
   "metadata": {},
   "source": [
    "### Generating own data for linear model\n",
    "#### Column 'type' contains 3 types : Homoscedastic, Heteroscedastic and Quadratic\n"
   ]
  },
  {
   "cell_type": "code",
   "execution_count": 41,
   "id": "aadc730a-f88c-45b6-ba81-5b9327906d98",
   "metadata": {},
   "outputs": [
    {
     "name": "stdout",
     "output_type": "stream",
     "text": [
      "           x         y          type\n",
      "25  2.084150  6.035746 homoscedastic\n",
      "26 45.928336 13.224926 homoscedastic\n",
      "27 35.138485 13.348005 homoscedastic\n",
      "28  7.216584  4.517110 homoscedastic\n",
      "29 28.972389  8.654128 homoscedastic\n",
      "30 43.012015 13.468748 homoscedastic\n"
     ]
    }
   ],
   "source": [
    "a= 5 #Intercept\n",
    "b= 0.2 #Slope\n",
    "x= runif(30, min=0.10, max = 50) #runif - random deviates of uniform distribution\n",
    "y= a + b*x + rnorm(30, sd= 2) #rnorm - vector of random numbers with a normal distribution added as Noise\n",
    "df = data.frame(x=x, y=y, type = \"homoscedastic\")\n",
    "print(tail(df))"
   ]
  },
  {
   "cell_type": "code",
   "execution_count": 42,
   "id": "c49b3cad-5b25-4e2e-8e81-cd38f2f4aded",
   "metadata": {},
   "outputs": [
    {
     "name": "stdout",
     "output_type": "stream",
     "text": [
      "           x         y            type\n",
      "55  2.084150  5.190452 heteroscedastic\n",
      "56 45.928336 16.157950 heteroscedastic\n",
      "57 35.138485 14.946874 heteroscedastic\n",
      "58  7.216584  5.952618 heteroscedastic\n",
      "59 28.972389  9.164514 heteroscedastic\n",
      "60 43.012015 17.789200 heteroscedastic\n"
     ]
    }
   ],
   "source": [
    "y = a + b*x + rnorm(30, sd=0.05) * (x+15)\n",
    "df = rbind(df, data.frame(x=x,y=y, type = \"heteroscedastic\"))\n",
    "print(tail(df))"
   ]
  },
  {
   "cell_type": "code",
   "execution_count": 43,
   "id": "a277aa64-f371-4089-bee3-a44d926b208e",
   "metadata": {},
   "outputs": [
    {
     "name": "stdout",
     "output_type": "stream",
     "text": [
      "           x          y      type\n",
      "85  2.084150  0.8050668 quadratic\n",
      "86 45.928336 57.9432603 quadratic\n",
      "87 35.138485 38.5894852 quadratic\n",
      "88  7.216584  3.8707825 quadratic\n",
      "89 28.972389 25.9161104 quadratic\n",
      "90 43.012015 54.6728953 quadratic\n"
     ]
    }
   ],
   "source": [
    "y = x^2/40+ a + rnorm(30, sd=2)\n",
    "df = rbind(df, data.frame(x=x,y=y, type = \"quadratic\"))\n",
    "print(tail(df))"
   ]
  },
  {
   "cell_type": "markdown",
   "id": "7a7761f0-9b14-4dcd-b33f-8bb150f5fb53",
   "metadata": {},
   "source": [
    "#### Create linear regression model for the data formed and analysing the summary function values"
   ]
  },
  {
   "cell_type": "code",
   "execution_count": 56,
   "id": "1e8371ab-2e8f-4f3f-a32d-5c35c66cdcb1",
   "metadata": {},
   "outputs": [
    {
     "name": "stdout",
     "output_type": "stream",
     "text": [
      "[1] \"----------------------------Type - homoscedastic-----------------------------------------\"\n"
     ]
    },
    {
     "data": {
      "text/plain": [
       "\n",
       "Call:\n",
       "lm(formula = y ~ x, data = df[df$type == \"homoscedastic\", ])\n",
       "\n",
       "Residuals:\n",
       "    Min      1Q  Median      3Q     Max \n",
       "-3.6026 -0.6647  0.1513  1.2278  2.8544 \n",
       "\n",
       "Coefficients:\n",
       "            Estimate Std. Error t value Pr(>|t|)    \n",
       "(Intercept)  4.33555    0.51226   8.464 3.34e-09 ***\n",
       "x            0.20412    0.01725  11.833 2.07e-12 ***\n",
       "---\n",
       "Signif. codes:  0 '***' 0.001 '**' 0.01 '*' 0.05 '.' 0.1 ' ' 1\n",
       "\n",
       "Residual standard error: 1.526 on 28 degrees of freedom\n",
       "Multiple R-squared:  0.8333,\tAdjusted R-squared:  0.8274 \n",
       "F-statistic:   140 on 1 and 28 DF,  p-value: 2.073e-12\n"
      ]
     },
     "metadata": {},
     "output_type": "display_data"
    },
    {
     "name": "stdout",
     "output_type": "stream",
     "text": [
      "[1] \"----------------------------Type - heteroscedastic-----------------------------------------\"\n"
     ]
    },
    {
     "data": {
      "text/plain": [
       "\n",
       "Call:\n",
       "lm(formula = y ~ x, data = df[df$type == \"heteroscedastic\", ])\n",
       "\n",
       "Residuals:\n",
       "    Min      1Q  Median      3Q     Max \n",
       "-4.6267 -1.5561 -0.0976  1.2860  5.6683 \n",
       "\n",
       "Coefficients:\n",
       "            Estimate Std. Error t value Pr(>|t|)    \n",
       "(Intercept)  4.43944    0.78615   5.647 4.75e-06 ***\n",
       "x            0.21701    0.02647   8.197 6.37e-09 ***\n",
       "---\n",
       "Signif. codes:  0 '***' 0.001 '**' 0.01 '*' 0.05 '.' 0.1 ' ' 1\n",
       "\n",
       "Residual standard error: 2.343 on 28 degrees of freedom\n",
       "Multiple R-squared:  0.7059,\tAdjusted R-squared:  0.6954 \n",
       "F-statistic: 67.19 on 1 and 28 DF,  p-value: 6.368e-09\n"
      ]
     },
     "metadata": {},
     "output_type": "display_data"
    },
    {
     "name": "stdout",
     "output_type": "stream",
     "text": [
      "[1] \"----------------------------Type - quadratic-----------------------------------------\"\n"
     ]
    },
    {
     "data": {
      "text/plain": [
       "\n",
       "Call:\n",
       "lm(formula = y ~ x, data = df[df$type == \"quadratic\", ])\n",
       "\n",
       "Residuals:\n",
       "    Min      1Q  Median      3Q     Max \n",
       "-9.5741 -4.0354 -0.8281  4.9952  9.1723 \n",
       "\n",
       "Coefficients:\n",
       "            Estimate Std. Error t value Pr(>|t|)    \n",
       "(Intercept) -5.28437    1.87881  -2.813  0.00888 ** \n",
       "x            1.27665    0.06327  20.178  < 2e-16 ***\n",
       "---\n",
       "Signif. codes:  0 '***' 0.001 '**' 0.01 '*' 0.05 '.' 0.1 ' ' 1\n",
       "\n",
       "Residual standard error: 5.598 on 28 degrees of freedom\n",
       "Multiple R-squared:  0.9357,\tAdjusted R-squared:  0.9334 \n",
       "F-statistic: 407.2 on 1 and 28 DF,  p-value: < 2.2e-16\n"
      ]
     },
     "metadata": {},
     "output_type": "display_data"
    },
    {
     "name": "stdout",
     "output_type": "stream",
     "text": [
      "[1] \"---------------------------------------------------------------------\"\n"
     ]
    }
   ],
   "source": [
    "print(\"----------------------------Type - homoscedastic-----------------------------------------\")\n",
    "reg <- lm(data=df[df$type==\"homoscedastic\",],y~x)\n",
    "summary(reg)\n",
    "\n",
    "\n",
    "print(\"----------------------------Type - heteroscedastic-----------------------------------------\")\n",
    "reg <- lm(data=df[df$type==\"heteroscedastic\",],y~x)\n",
    "summary(reg)\n",
    "\n",
    "\n",
    "print(\"----------------------------Type - quadratic-----------------------------------------\")\n",
    "reg <- lm(data=df[df$type==\"quadratic\",],y~x)\n",
    "summary(reg)\n",
    "print(\"---------------------------------------------------------------------\")"
   ]
  },
  {
   "cell_type": "markdown",
   "id": "bfbda533-56a2-4d70-ad11-77462e393781",
   "metadata": {},
   "source": [
    "#### plot(reg) - Diagnostic plot\n",
    "#### 1. Scatterplot of residuals against fitted values (residuals vs. fitted).\n",
    "#### 2. Normal Q-Q plot of residuals.\n",
    "#### 3. Scale-location plot (square root of standardized residuals against fitted values).\n",
    "#### 4. Residuals vs. leverage plot.\n"
   ]
  },
  {
   "cell_type": "code",
   "execution_count": 66,
   "id": "78bcb869-9161-49f4-a936-d44d74409c1e",
   "metadata": {},
   "outputs": [
    {
     "data": {
      "image/png": "[encoded data removed]",
      "text/plain": [
       "Plot with title \"\""
      ]
     },
     "metadata": {
      "image/png": {
       "height": 420,
       "width": 420
      }
     },
     "output_type": "display_data"
    },
    {
     "data": {
      "image/png": "[encoded data removed]",
      "text/plain": [
       "Plot with title \"\""
      ]
     },
     "metadata": {
      "image/png": {
       "height": 420,
       "width": 420
      }
     },
     "output_type": "display_data"
    },
    {
     "data": {
      "image/png": "[encoded data removed]",
      "text/plain": [
       "Plot with title \"\""
      ]
     },
     "metadata": {
      "image/png": {
       "height": 420,
       "width": 420
      }
     },
     "output_type": "display_data"
    },
    {
     "data": {
      "image/png": "[encoded data removed]",
      "text/plain": [
       "Plot with title \"\""
      ]
     },
     "metadata": {
      "image/png": {
       "height": 420,
       "width": 420
      }
     },
     "output_type": "display_data"
    }
   ],
   "source": [
    "reg <- lm(data=df[df$type==\"homoscedastic\",],y~x)\n",
    "par(mfrow=c(1,1)); \n",
    "plot(reg); "
   ]
  },
  {
   "cell_type": "markdown",
   "id": "e6f0fa1f-e744-43fa-a958-55b5de5b8f07",
   "metadata": {},
   "source": [
    "#### Polynomial regression with the quadratic data and Prediction of Y values using the Quadratic Model\n",
    " The geom_point function adds blue points for each data point, and geom_line adds a red line based on the predicted values (yv) from the quadratic regression model."
   ]
  },
  {
   "cell_type": "code",
   "execution_count": 77,
   "id": "3a12aee2-de11-4c5d-9217-4d0404604eed",
   "metadata": {},
   "outputs": [
    {
     "data": {
      "text/plain": [
       "\n",
       "Call:\n",
       "lm(formula = y ~ x + x2, data = df[df$type == \"quadratic\", ])\n",
       "\n",
       "Residuals:\n",
       "    Min      1Q  Median      3Q     Max \n",
       "-4.9206 -1.1185 -0.0011  1.0846  3.2169 \n",
       "\n",
       "Coefficients:\n",
       "            Estimate Std. Error t value Pr(>|t|)    \n",
       "(Intercept) 2.945224   0.854554   3.447  0.00187 ** \n",
       "x           0.103572   0.083261   1.244  0.22421    \n",
       "x2          0.023814   0.001632  14.589 2.51e-14 ***\n",
       "---\n",
       "Signif. codes:  0 '***' 0.001 '**' 0.01 '*' 0.05 '.' 0.1 ' ' 1\n",
       "\n",
       "Residual standard error: 1.913 on 27 degrees of freedom\n",
       "Multiple R-squared:  0.9928,\tAdjusted R-squared:  0.9922 \n",
       "F-statistic:  1850 on 2 and 27 DF,  p-value: < 2.2e-16\n"
      ]
     },
     "metadata": {},
     "output_type": "display_data"
    },
    {
     "data": {
      "image/png": "[encoded data removed]",
      "text/plain": [
       "plot without title"
      ]
     },
     "metadata": {
      "image/png": {
       "height": 420,
       "width": 420
      }
     },
     "output_type": "display_data"
    }
   ],
   "source": [
    "df$x2=df$x^2\n",
    "reg_quad <- lm(data=df[df$type==\"quadratic\",],y~x+x2)\n",
    "summary(reg_quad)\n",
    "xv <- seq(-20,60,.5)\n",
    "# Prediction of Y values using the Quadratic Model\n",
    "yv <- predict(reg_quad, list(x=xv,x2=xv^2))\n",
    "\n",
    "# Scatter Plot with Quadratic Regression Line\n",
    "ggplot(data=df[df$type==\"quadratic\",]) + theme_bw() +\n",
    "      geom_hline(yintercept=0) + geom_vline(xintercept=0) +\n",
    "      geom_point(aes(x=x,y=y),color=\"blue\") +\n",
    "      geom_line(data=data.frame(x=xv,y=yv),aes(x=x,y=y),color=\"red\",size=1)  +  \n",
    "      labs(title = \"Scatter Plot with Quadratic Regression Line\",\n",
    "      x = \"Independent Variable (x)\",\n",
    "      y = \"Dependent Variable (y)\") "
   ]
  },
  {
   "cell_type": "code",
   "execution_count": null,
   "id": "e6ea08c5-718a-4a7d-abca-b55bb391cb22",
   "metadata": {},
   "outputs": [],
   "source": []
  }
 ],
 "metadata": {
  "kernelspec": {
   "display_name": "R",
   "language": "R",
   "name": "ir"
  },
  "language_info": {
   "codemirror_mode": "r",
   "file_extension": ".r",
   "mimetype": "text/x-r-source",
   "name": "R",
   "pygments_lexer": "r",
   "version": "4.3.1"
  }
 },
 "nbformat": 4,
 "nbformat_minor": 5
}
