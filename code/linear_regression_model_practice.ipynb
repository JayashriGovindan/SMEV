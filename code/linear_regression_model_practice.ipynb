{
 "cells": [
  {
   "cell_type": "markdown",
   "id": "0cc3bf45-4caf-4f8b-b2e4-369212ec7e62",
   "metadata": {},
   "source": [
    "### Linear Regression Model"
   ]
  },
  {
   "cell_type": "code",
   "execution_count": 2,
   "id": "4fb72d00-36be-4a2c-a435-abfe4e8baed8",
   "metadata": {},
   "outputs": [],
   "source": [
    "#Import Libraries \n",
    "library(dplyr)\n",
    "library(ggplot2)"
   ]
  },
  {
   "cell_type": "markdown",
   "id": "f2c50e51-4ffc-46c5-aad0-dd7d73e03ced",
   "metadata": {},
   "source": [
    "### Generating own data for linear model\n",
    "#### Column 'type' contains 3 types : Homoscedastic, Heteroscedastic and Quadratic\n"
   ]
  },
  {
   "cell_type": "code",
   "execution_count": 3,
   "id": "aadc730a-f88c-45b6-ba81-5b9327906d98",
   "metadata": {},
   "outputs": [
    {
     "name": "stdout",
     "output_type": "stream",
     "text": [
      "           x         y          type\n",
      "25 36.313046  9.431202 homoscedastic\n",
      "26 30.426396 10.592218 homoscedastic\n",
      "27  3.945953  5.322647 homoscedastic\n",
      "28  7.386572  7.009166 homoscedastic\n",
      "29 45.576978 16.872790 homoscedastic\n",
      "30 16.950313  7.192772 homoscedastic\n"
     ]
    }
   ],
   "source": [
    "a= 5 #Intercept\n",
    "b= 0.2 #Slope\n",
    "x= runif(30, min=0.10, max = 50) #runif - random deviates of uniform distribution\n",
    "y= a + b*x + rnorm(30, sd= 2) #rnorm - vector of random numbers with a normal distribution added as Noise\n",
    "df = data.frame(x=x, y=y, type = \"homoscedastic\")\n",
    "print(tail(df))"
   ]
  },
  {
   "cell_type": "code",
   "execution_count": 4,
   "id": "c49b3cad-5b25-4e2e-8e81-cd38f2f4aded",
   "metadata": {},
   "outputs": [
    {
     "name": "stdout",
     "output_type": "stream",
     "text": [
      "           x         y            type\n",
      "55 36.313046  7.928085 heteroscedastic\n",
      "56 30.426396 10.978073 heteroscedastic\n",
      "57  3.945953  7.015537 heteroscedastic\n",
      "58  7.386572  5.358505 heteroscedastic\n",
      "59 45.576978 15.596946 heteroscedastic\n",
      "60 16.950313 12.402777 heteroscedastic\n"
     ]
    }
   ],
   "source": [
    "y = a + b*x + rnorm(30, sd=0.05) * (x+15)\n",
    "df = rbind(df, data.frame(x=x,y=y, type = \"heteroscedastic\"))\n",
    "print(tail(df))"
   ]
  },
  {
   "cell_type": "code",
   "execution_count": 5,
   "id": "a277aa64-f371-4089-bee3-a44d926b208e",
   "metadata": {},
   "outputs": [
    {
     "name": "stdout",
     "output_type": "stream",
     "text": [
      "           x         y      type\n",
      "85 36.313046 39.376551 quadratic\n",
      "86 30.426396 26.993119 quadratic\n",
      "87  3.945953  4.044728 quadratic\n",
      "88  7.386572  5.061358 quadratic\n",
      "89 45.576978 56.751467 quadratic\n",
      "90 16.950313 11.230393 quadratic\n"
     ]
    }
   ],
   "source": [
    "y = x^2/40+ a + rnorm(30, sd=2)\n",
    "df = rbind(df, data.frame(x=x,y=y, type = \"quadratic\"))\n",
    "print(tail(df))"
   ]
  },
  {
   "cell_type": "markdown",
   "id": "7a7761f0-9b14-4dcd-b33f-8bb150f5fb53",
   "metadata": {},
   "source": [
    "#### Create linear regression model for the data formed and analysing the summary function values"
   ]
  },
  {
   "cell_type": "code",
   "execution_count": 6,
   "id": "1e8371ab-2e8f-4f3f-a32d-5c35c66cdcb1",
   "metadata": {},
   "outputs": [
    {
     "name": "stdout",
     "output_type": "stream",
     "text": [
      "[1] \"----------------------------Type - homoscedastic-----------------------------------------\"\n"
     ]
    },
    {
     "data": {
      "text/plain": [
       "\n",
       "Call:\n",
       "lm(formula = y ~ x, data = df[df$type == \"homoscedastic\", ])\n",
       "\n",
       "Residuals:\n",
       "    Min      1Q  Median      3Q     Max \n",
       "-3.5286 -1.3398  0.0513  1.1199  4.0981 \n",
       "\n",
       "Coefficients:\n",
       "            Estimate Std. Error t value Pr(>|t|)    \n",
       "(Intercept)   6.2110     0.7754   8.010 1.01e-08 ***\n",
       "x             0.1852     0.0266   6.961 1.44e-07 ***\n",
       "---\n",
       "Signif. codes:  0 '***' 0.001 '**' 0.01 '*' 0.05 '.' 0.1 ' ' 1\n",
       "\n",
       "Residual standard error: 1.883 on 28 degrees of freedom\n",
       "Multiple R-squared:  0.6338,\tAdjusted R-squared:  0.6207 \n",
       "F-statistic: 48.46 on 1 and 28 DF,  p-value: 1.438e-07\n"
      ]
     },
     "metadata": {},
     "output_type": "display_data"
    },
    {
     "name": "stdout",
     "output_type": "stream",
     "text": [
      "[1] \"----------------------------Type - heteroscedastic-----------------------------------------\"\n"
     ]
    },
    {
     "data": {
      "text/plain": [
       "\n",
       "Call:\n",
       "lm(formula = y ~ x, data = df[df$type == \"heteroscedastic\", ])\n",
       "\n",
       "Residuals:\n",
       "    Min      1Q  Median      3Q     Max \n",
       "-4.2150 -1.3159 -0.1096  1.3010  6.2080 \n",
       "\n",
       "Coefficients:\n",
       "            Estimate Std. Error t value Pr(>|t|)    \n",
       "(Intercept)  4.92217    1.00534   4.896 3.69e-05 ***\n",
       "x            0.19885    0.03449   5.765 3.45e-06 ***\n",
       "---\n",
       "Signif. codes:  0 '***' 0.001 '**' 0.01 '*' 0.05 '.' 0.1 ' ' 1\n",
       "\n",
       "Residual standard error: 2.441 on 28 degrees of freedom\n",
       "Multiple R-squared:  0.5428,\tAdjusted R-squared:  0.5265 \n",
       "F-statistic: 33.24 on 1 and 28 DF,  p-value: 3.446e-06\n"
      ]
     },
     "metadata": {},
     "output_type": "display_data"
    },
    {
     "name": "stdout",
     "output_type": "stream",
     "text": [
      "[1] \"----------------------------Type - quadratic-----------------------------------------\"\n"
     ]
    },
    {
     "data": {
      "text/plain": [
       "\n",
       "Call:\n",
       "lm(formula = y ~ x, data = df[df$type == \"quadratic\", ])\n",
       "\n",
       "Residuals:\n",
       "    Min      1Q  Median      3Q     Max \n",
       "-6.7135 -2.8005  0.0845  1.8967  6.6340 \n",
       "\n",
       "Coefficients:\n",
       "            Estimate Std. Error t value Pr(>|t|)    \n",
       "(Intercept) -5.27562    1.52801  -3.453  0.00178 ** \n",
       "x            1.21537    0.05242  23.185  < 2e-16 ***\n",
       "---\n",
       "Signif. codes:  0 '***' 0.001 '**' 0.01 '*' 0.05 '.' 0.1 ' ' 1\n",
       "\n",
       "Residual standard error: 3.71 on 28 degrees of freedom\n",
       "Multiple R-squared:  0.9505,\tAdjusted R-squared:  0.9487 \n",
       "F-statistic: 537.5 on 1 and 28 DF,  p-value: < 2.2e-16\n"
      ]
     },
     "metadata": {},
     "output_type": "display_data"
    },
    {
     "name": "stdout",
     "output_type": "stream",
     "text": [
      "[1] \"---------------------------------------------------------------------\"\n"
     ]
    }
   ],
   "source": [
    "print(\"----------------------------Type - homoscedastic-----------------------------------------\")\n",
    "reg <- lm(data=df[df$type==\"homoscedastic\",],y~x)\n",
    "summary(reg)\n",
    "\n",
    "\n",
    "print(\"----------------------------Type - heteroscedastic-----------------------------------------\")\n",
    "reg <- lm(data=df[df$type==\"heteroscedastic\",],y~x)\n",
    "summary(reg)\n",
    "\n",
    "\n",
    "print(\"----------------------------Type - quadratic-----------------------------------------\")\n",
    "reg <- lm(data=df[df$type==\"quadratic\",],y~x)\n",
    "summary(reg)\n",
    "print(\"---------------------------------------------------------------------\")"
   ]
  },
  {
   "cell_type": "markdown",
   "id": "e0bdac45-6dce-4438-9355-4020b562f2a4",
   "metadata": {},
   "source": [
    "### Type - homoscedastic \n",
    "The residuals summary shows that the model accurately predicts the dependent variable (median near to zero). However, performance varies, with some situations showing that the model overestimates and underestimates. The intercept and coefficient of x are both statistically significant, as shown by small p-values . \n",
    "In this case, with a standard deviation of 2 in the random noise, an RSE of 1.964 indicates that the model captures a large portion of the data variability, and the residuals are tiny in comparison to the overall variability. This is a good fit, given the scale of the random noise in data.\n",
    "The model explains approximately 66.34% of the variance in the dependent variable. The adjusted R-squared of 0.6514, which is somewhat lower than R², suggests that adding more predictors may not considerably improve the model.\n",
    "The strong F-statistic and the very low p-value indicate that the regression model is statistically significant and gives a better fit than a model without predictorrs.\n",
    "It appears to be a good model.\n"
   ]
  },
  {
   "cell_type": "markdown",
   "id": "bfbda533-56a2-4d70-ad11-77462e393781",
   "metadata": {},
   "source": [
    "### Type - heteroscedastic\n",
    "The median is 0.0829, indicating that the model is reasonably accurate in predicting the dependent variable. The distribution varies, with some residuals negative (model overestimates) and others positive (model underestimates).\r\n",
    "The intercept is 5.72003, while the coefficient for x is 0.14059.\r\n",
    "Both coefficients are statistically significant, as shown by their extremely low p-values (***).\r\n",
    "The F-statistic is 39.8, with an extremely low p-value (8.004e-07), shows that the whole model is statistically significant and fits better than a model without predictors.\r\n",
    "RSE is reasonably minimal, which means that the average magnitude of the residuals is not very large.\r\n",
    "The multiple R-squared value is 0.587, suggesting that the model accounts for 58.7% of the variation in the dependent variable. The R-squared values suggest a modest level of explanation. The model looks to be a good fit for the data, explaining a significant percentage of the variance in the dependent variable.\n"
   ]
  },
  {
   "cell_type": "markdown",
   "id": "f68b5e6e-25bb-4650-88b0-88b53de325d5",
   "metadata": {},
   "source": [
    "### Type - quadratic\n",
    "The median result of -0.9434 indicates that the model's predictions are close to accurate.  Both the intercept and the quadratic term show statistical significance.\r\n",
    "The Multiple R-squared value of 0.9299 indicates that the model explains a significant percentage of the variance in the dependent variable.\r\n",
    "The RSE (residual standard deviation) is 5.363. The relatively big RSE shows greater variability in the predictions. The F-statistic is 371.2, with a low p-value (<2.2e-16).\r\n",
    "This means that the whole model is highly statistically significant (Strong) and fits better than a model without predictors.\r\n",
    "In conclusion, the quadratic model appears to be statistically significant and accounts for a major percentage of the variance in the dependent variable. The coefficients are significant, and the residuals exhibit some variation around the fitted values."
   ]
  },
  {
   "cell_type": "markdown",
   "id": "a8e8e420-5260-404e-9fcb-efce3aa1293e",
   "metadata": {},
   "source": [
    "#### plot(reg) - Diagnostic plot : \n",
    "#### 1. Scatterplot of residuals against fitted values (residuals vs. fitted).\n",
    "#### 2. Normal Q-Q plot of residuals.\n",
    "#### 3. Scale-location plot (square root of standardized residuals against fitted values).\n",
    "#### 4. Residuals vs. leverage plot."
   ]
  },
  {
   "cell_type": "code",
   "execution_count": 7,
   "id": "78bcb869-9161-49f4-a936-d44d74409c1e",
   "metadata": {},
   "outputs": [
    {
     "data": {
      "image/png": "[encoded data removed]",
      "text/plain": [
       "Plot with title \"\""
      ]
     },
     "metadata": {
      "image/png": {
       "height": 420,
       "width": 420
      }
     },
     "output_type": "display_data"
    }
   ],
   "source": [
    "reg <- lm(data=df[df$type==\"homoscedastic\",],y~x)\n",
    "par(mfrow=c(2,2)); \n",
    "plot(reg); "
   ]
  },
  {
   "cell_type": "markdown",
   "id": "a3bca945-2be4-43d5-8fff-577222c2edff",
   "metadata": {},
   "source": [
    "#### Type - homoscedastic\n",
    "1) Scatterplot of Residuals against Fitted Values (Residuals vs. Fitted): A random scatter of points without ane patter , model is making unbiased predictions across the range of fitted values.\n",
    "2) Normal Q-Q Plot of Residual: Points follow a roughly straight , residuals are approximately normally distributed.\n",
    "3) Scale-Location Plot (Square Root of Standardized Residuals against FittedValuee): Equally spread points indicating homoscedasticity (constant variance).\n",
    "4) Residuals vs Leverage Outcome: A random scatter of points without any concentration in the top-right. No potential influencers seen."
   ]
  },
  {
   "cell_type": "code",
   "execution_count": 8,
   "id": "314357f1-8a17-4538-b2bf-9fe8d8b56223",
   "metadata": {},
   "outputs": [
    {
     "data": {
      "image/png": "[encoded data removed]",
      "text/plain": [
       "Plot with title \"\""
      ]
     },
     "metadata": {
      "image/png": {
       "height": 420,
       "width": 420
      }
     },
     "output_type": "display_data"
    }
   ],
   "source": [
    "reg <- lm(data=df[df$type==\"heteroscedastic\",],y~x)\n",
    "par(mfrow=c(2,2)); \n",
    "plot(reg); "
   ]
  },
  {
   "cell_type": "markdown",
   "id": "af656f6f-d088-4f06-b465-7f331666625d",
   "metadata": {},
   "source": [
    "#### Type - heteroscedastic\n",
    "1) Scatterplot of Residuals against Fitted Values (Residuals vs. Fitted): A random scatter of points without ane patter , model is making unbiased predictions across the range of fitted values.\n",
    "2) Normal Q-Q Plot of Residual: Points follow a roughly straight , residuals are approximately normally distributed similar to that of homoscedastic type\n",
    "3) Scale-Location Plot (Square Root of Standardized Residuals against Fitted Value): Equally spread points indicating homoscedasticity (constant variance)\n",
    "4) Residuals vs. Leverage Outcome: No potential influencers observered but the concentration of points around the middle might represent a cluster of typical or common cases in your dataset. \n",
    "These observations neither have extreme predictor values nor large discrepancies between observed and predicted values.\n"
   ]
  },
  {
   "cell_type": "code",
   "execution_count": 10,
   "id": "38c6a3eb-21e9-4877-892b-7aa017d7b1a3",
   "metadata": {},
   "outputs": [
    {
     "data": {
      "image/png": "[encoded data removed]",
      "text/plain": [
       "Plot with title \"\""
      ]
     },
     "metadata": {
      "image/png": {
       "height": 420,
       "width": 420
      }
     },
     "output_type": "display_data"
    }
   ],
   "source": [
    "reg <- lm(data=df[df$type==\"quadratic\",],y~x)\n",
    "par(mfrow=c(2,2)); \n",
    "plot(reg); "
   ]
  },
  {
   "cell_type": "markdown",
   "id": "e078110a-46b4-4808-9ca6-88c3976fa50b",
   "metadata": {},
   "source": [
    "#### Type - quadratic\n",
    "1) Scatterplot of Residuals against Fitted Values (Residuals vs. Fitted): A random scatter of points without ane patter , model is making unbiased predictions across the range of fitted values.\n",
    "2) Normal Q-Q Plot of Residual: Points follow a roughly straight but most deviate from the straight line. It suggests departures from normality, such as skewness or heavy tails.\n",
    "3) Scale-Location Plot (Square Root of Standardized Residuals against Fitted Value): Equally spread points indicating homoscedasticity (constant variance)\n",
    "4) Residuals vs. Leverage Outcome: A random scatter of points with some concentration. Points concentrated at the bottom and top corners of the horizontal line in the plot suggest the presence of influential observations. \n",
    "These are data points that have a substantial impact on the estimation of the regression coefficients."
   ]
  },
  {
   "cell_type": "markdown",
   "id": "e6f0fa1f-e744-43fa-a958-55b5de5b8f07",
   "metadata": {},
   "source": [
    "#### Polynomial regression with the quadratic data and Prediction of Y values using the Quadratic Model\n",
    " The geom_point function adds blue points for each data point, and geom_line adds a red line based on the predicted values (yv) from the quadratic regression model."
   ]
  },
  {
   "cell_type": "code",
   "execution_count": 77,
   "id": "3a12aee2-de11-4c5d-9217-4d0404604eed",
   "metadata": {},
   "outputs": [
    {
     "data": {
      "text/plain": [
       "\n",
       "Call:\n",
       "lm(formula = y ~ x + x2, data = df[df$type == \"quadratic\", ])\n",
       "\n",
       "Residuals:\n",
       "    Min      1Q  Median      3Q     Max \n",
       "-4.9206 -1.1185 -0.0011  1.0846  3.2169 \n",
       "\n",
       "Coefficients:\n",
       "            Estimate Std. Error t value Pr(>|t|)    \n",
       "(Intercept) 2.945224   0.854554   3.447  0.00187 ** \n",
       "x           0.103572   0.083261   1.244  0.22421    \n",
       "x2          0.023814   0.001632  14.589 2.51e-14 ***\n",
       "---\n",
       "Signif. codes:  0 '***' 0.001 '**' 0.01 '*' 0.05 '.' 0.1 ' ' 1\n",
       "\n",
       "Residual standard error: 1.913 on 27 degrees of freedom\n",
       "Multiple R-squared:  0.9928,\tAdjusted R-squared:  0.9922 \n",
       "F-statistic:  1850 on 2 and 27 DF,  p-value: < 2.2e-16\n"
      ]
     },
     "metadata": {},
     "output_type": "display_data"
    },
    {
     "data": {
      "image/png": "[encoded data removed]",
      "text/plain": [
       "plot without title"
      ]
     },
     "metadata": {
      "image/png": {
       "height": 420,
       "width": 420
      }
     },
     "output_type": "display_data"
    }
   ],
   "source": [
    "df$x2=df$x^2\n",
    "reg_quad <- lm(data=df[df$type==\"quadratic\",],y~x+x2)\n",
    "summary(reg_quad)\n",
    "xv <- seq(-20,60,.5)\n",
    "# Prediction of Y values using the Quadratic Model\n",
    "yv <- predict(reg_quad, list(x=xv,x2=xv^2))\n",
    "\n",
    "# Scatter Plot with Quadratic Regression Line\n",
    "ggplot(data=df[df$type==\"quadratic\",]) + theme_bw() +\n",
    "      geom_hline(yintercept=0) + geom_vline(xintercept=0) +\n",
    "      geom_point(aes(x=x,y=y),color=\"blue\") +\n",
    "      geom_line(data=data.frame(x=xv,y=yv),aes(x=x,y=y),color=\"red\",size=1)  +  \n",
    "      labs(title = \"Scatter Plot with Quadratic Regression Line\",\n",
    "      x = \"Independent Variable (x)\",\n",
    "      y = \"Dependent Variable (y)\") "
   ]
  },
  {
   "cell_type": "markdown",
   "id": "a0920fb2-cadf-4de1-a595-8e9d281d091a",
   "metadata": {},
   "source": [
    "#### Polynomial regression with the quadratic data\n",
    "The quadratic regression model fits the data well, as seen by a high R squared and a strong F statistic.\n",
    "The intercept differs significantly from zero, indicating a non-zero baseline. The intercept of 2.9452 differs considerably from zero (based on the low p-value of 0.00187). This implies that even if both x and x square are zero, the predicted value of y is not zero. There is a nonzero baseline or beginning point for y, and the difference is statistically significant. It implies that the model contains a constant component that provides a non-zero baseline for predictions, which is supported by the data according to the statistical test (p-value).\n",
    "The coefficient for x squared is quite substantial, showing a strong quadratic relationship.The coefficient for x is not statistically significant since p-value 0.22 (expected level is 0.05), indicating that the linear component is not supported by the dat\n",
    "\n",
    "#### Scater Plot with quadratic regression line\n",
    "\n",
    "The upward curve in the scatterplot indicates a positive quadratic relationship between the variables. As the predictor variable increases, the response variable first accelerates before slowing. Here, it seems to be a good fit..\r\n"
   ]
  },
  {
   "cell_type": "code",
   "execution_count": null,
   "id": "425681cf-aa0c-408c-8b51-59bb99d03585",
   "metadata": {},
   "outputs": [],
   "source": []
  }
 ],
 "metadata": {
  "kernelspec": {
   "display_name": "R",
   "language": "R",
   "name": "ir"
  },
  "language_info": {
   "codemirror_mode": "r",
   "file_extension": ".r",
   "mimetype": "text/x-r-source",
   "name": "R",
   "pygments_lexer": "r",
   "version": "4.3.1"
  }
 },
 "nbformat": 4,
 "nbformat_minor": 5
}
